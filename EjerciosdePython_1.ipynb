{
  "nbformat": 4,
  "nbformat_minor": 0,
  "metadata": {
    "colab": {
      "provenance": []
    },
    "kernelspec": {
      "name": "python3",
      "display_name": "Python 3"
    },
    "language_info": {
      "name": "python"
    }
  },
  "cells": [
    {
      "cell_type": "code",
      "execution_count": 1,
      "metadata": {
        "id": "ioRqyhkEq94i"
      },
      "outputs": [],
      "source": [
        "#A2.- Ejercicios de Python\n",
        "# Jorge Eduardo Garza Garza\n",
        "# 1842081\n",
        "# N1"
      ]
    },
    {
      "cell_type": "code",
      "source": [
        "\n",
        "# Solicitar al usuario que ingrese una lista de números separados por espacios esto para detectar si es par o impar.\n",
        "entrada_usuario = input(\"Ingrese una lista de números separados por espacios: \")\n",
        "\n",
        "# Dividir la entrada del usuario en una lista de números\n",
        "numeros = [int(x) for x in entrada_usuario.split()]\n",
        "\n",
        "# Mostrar la lista en orden inverso\n",
        "print(\"Lista en orden inverso:\")\n",
        "for numero in reversed(numeros):\n",
        "    print(numero, end=\" \")"
      ],
      "metadata": {
        "id": "Yo_y28f6rXMN"
      },
      "execution_count": null,
      "outputs": []
    },
    {
      "cell_type": "markdown",
      "source": [
        "Ingresar un conjunto de números separados por espacios: 7 5 6 2 1 3\n",
        "Lista en orden inverso:\n",
        "3 1 2 6 5 7\n"
      ],
      "metadata": {
        "id": "Cs14fLtbrlxy"
      }
    },
    {
      "cell_type": "code",
      "source": [
        "# Solicitar al usuario que ingrese un número\n",
        "numero = int(input(\"Ingrese un número: \"))\n",
        "\n",
        "# Comprobar si el número es par o impar\n",
        "if numero % 2 == 0:\n",
        "    print(f\"{numero} es un número par.\")\n",
        "else:\n",
        "    print(f\"{numero} es un número impar.\")"
      ],
      "metadata": {
        "id": "HUkRLuEprw0R"
      },
      "execution_count": null,
      "outputs": []
    },
    {
      "cell_type": "markdown",
      "source": [
        "Ingrese un número: 66\n",
        "66 es un número par."
      ],
      "metadata": {
        "id": "_1GfJY09scZ-"
      }
    },
    {
      "cell_type": "code",
      "source": [
        "import random\n",
        "\n",
        "# Generar un número aleatorio entre 1 y 100\n",
        "numero_objetivo = random.randint(1, 100)\n",
        "\n",
        "\n",
        "print(\"¡Bienvenido al juego de adivinar el número!\")\n",
        "\n",
        "while True:\n",
        "    # Solicitar al usuario que ingrese un número\n",
        "    intento = int(input(\"Adivina el número (entre 1 y 100): \"))\n",
        "\n",
        "\n",
        "    # Comprobar si el usuario adivinó el número\n",
        "    if intento == numero_objetivo:\n",
        "        print(f\"¡Felicidades! Adivinaste el número .\")\n",
        "        break\n",
        "    elif intento < numero_objetivo:\n",
        "        print(\"El número objetivo es mayor. Intenta de nuevo.\")\n",
        "    else:\n",
        "        print(\"El número objetivo es menor. Intenta de nuevo.\")\n"
      ],
      "metadata": {
        "id": "LDKNKL_tsf3N"
      },
      "execution_count": null,
      "outputs": []
    },
    {
      "cell_type": "markdown",
      "source": [
        "¡Bienvenido al juego de adivinar el número!\n",
        "Adivina el número (entre 1 y 100): 50\n",
        "El número objetivo es mayor. Intenta de nuevo.\n",
        "Adivina el número (entre 1 y 100): 70\n",
        "El número objetivo es mayor. Intenta de nuevo.\n",
        "Adivina el número (entre 1 y 100): 80\n",
        "El número objetivo es mayor. Intenta de nuevo.\n",
        "Adivina el número (entre 1 y 100): 90\n",
        "El número objetivo es menor. Intenta de nuevo.\n",
        "Adivina el número (entre 1 y 100): 85\n",
        "El número objetivo es menor. Intenta de nuevo.\n",
        "Adivina el número (entre 1 y 100): 82\n",
        "El número objetivo es menor. Intenta de nuevo.\n",
        "Adivina el número (entre 1 y 100): 81\n",
        "¡Felicidades! Adivinaste el número ."
      ],
      "metadata": {
        "id": "GdFOKKXBsmGv"
      }
    },
    {
      "cell_type": "code",
      "source": [
        "def es_primo(numero):\n",
        "    if numero <= 1:\n",
        "        return False\n",
        "    if numero <= 3:\n",
        "        return True\n",
        "    if numero % 2 == 0 or numero % 3 == 0:\n",
        "        return False\n",
        "    i = 5\n",
        "    while i * i <= numero:\n",
        "        if numero % i == 0 or numero % (i + 2) == 0:\n",
        "            return False\n",
        "        i += 6\n",
        "    return True\n",
        "\n",
        "# Solicitar al usuario que ingrese un rango de números\n",
        "inicio = int(input(\"Ingrese el número de inicio del rango: \"))\n",
        "fin = int(input(\"Ingrese el número de fin del rango: \"))\n",
        "\n",
        "print(f\"Los números primos en el rango de {inicio} a {fin} son:\")\n",
        "\n",
        "# Encontrar y mostrar los números primos en el rango\n",
        "for numero in range(inicio, fin + 1):\n",
        "    if es_primo(numero):\n",
        "        print(numero, end=\" \")"
      ],
      "metadata": {
        "id": "jyVMAxjDspzV"
      },
      "execution_count": null,
      "outputs": []
    },
    {
      "cell_type": "markdown",
      "source": [
        "Ingrese el número de inicio del rango: 5\n",
        "Ingrese el número de fin del rango: 88\n",
        "Los números primos en el rango de 5 a 88 son:\n",
        "5 7 11 13 17 19 23 29 31 37 41 43 47 53 59 61 67 71 73 79 83"
      ],
      "metadata": {
        "id": "EsbOGGKhstjE"
      }
    }
  ]
}